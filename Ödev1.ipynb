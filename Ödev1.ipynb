{
 "cells": [
  {
   "cell_type": "code",
   "execution_count": 44,
   "id": "c89d3f09-8064-4950-b9ab-a016cecf2fd7",
   "metadata": {
    "panel-layout": {
     "height": 0,
     "visible": true,
     "width": 100
    }
   },
   "outputs": [
    {
     "name": "stdin",
     "output_type": "stream",
     "text": [
      "Kullanıcı adınızı giriniz:  fatma.uslu\n",
      "Yaşınızı giriniz:  22\n",
      "Boyunuzu giriniz:  1.60\n"
     ]
    }
   ],
   "source": [
    "ad = input(\"Kullanıcı adınızı giriniz: \")             \n",
    "yaş = int(input(\"Yaşınızı giriniz: \"))\n",
    "boy = float(input(\"Boyunuzu giriniz: \"))"
   ]
  },
  {
   "cell_type": "code",
   "execution_count": 15,
   "id": "ff280d5b-5fd4-40d2-ac4d-91d1f864cd1a",
   "metadata": {
    "panel-layout": {
     "height": 0,
     "visible": true,
     "width": 100
    }
   },
   "outputs": [
    {
     "name": "stdin",
     "output_type": "stream",
     "text": [
      "Matematik notunuzu giriniz:  70\n",
      "Fizik notunuzu giriniz:  50\n",
      "Kimya notunuzu giriniz:  60\n"
     ]
    },
    {
     "name": "stdout",
     "output_type": "stream",
     "text": [
      "Ortalamanız:  60.0\n"
     ]
    }
   ],
   "source": [
    "matematik = int(input(\"Matematik notunuzu giriniz: \"))\n",
    "fizik = int(input(\"Fizik notunuzu giriniz: \"))\n",
    "kimya = int(input(\"Kimya notunuzu giriniz: \"))\n",
    "ortalama =(matematik + fizik + kimya)/3\n",
    "print(\"Ortalamanız: \", ortalama)"
   ]
  },
  {
   "cell_type": "code",
   "execution_count": 16,
   "id": "6b791475-81c4-439b-81dd-7e1b6dcb1793",
   "metadata": {},
   "outputs": [
    {
     "name": "stdout",
     "output_type": "stream",
     "text": [
      "İlk karakter: y\n",
      "Son karakter: ı\n",
      "Uzunluk: 9\n",
      "Ters çevrilmiş hali: ıpmak zay\n"
     ]
    }
   ],
   "source": [
    "metin = \"yaz kampı\"\n",
    "ilk = metin[0]\n",
    "son = metin[8]\n",
    "uzunluk = 9\n",
    "ters = metin[8] + metin[7] + metin[6] + metin[5] + metin[4] + metin[3] + metin[2] + metin[1] + metin[0]\n",
    "print(\"İlk karakter:\", ilk)\n",
    "print(\"Son karakter:\", son)\n",
    "print(\"Uzunluk:\", uzunluk)\n",
    "print(\"Ters çevrilmiş hali:\", ters)"
   ]
  },
  {
   "cell_type": "code",
   "execution_count": 19,
   "id": "b10fe897-26db-4274-99c9-5c77d73aaedb",
   "metadata": {},
   "outputs": [
    {
     "name": "stdin",
     "output_type": "stream",
     "text": [
      "Sayı 1:  5\n",
      "Sayı 2:  2\n"
     ]
    },
    {
     "name": "stdout",
     "output_type": "stream",
     "text": [
      "7\n",
      "3\n",
      "10\n",
      "2.5\n",
      "1\n"
     ]
    }
   ],
   "source": [
    "sayi1 = int(input(\"Sayı 1: \"))\n",
    "sayi2 = int(input(\"Sayı 2: \"))\n",
    "print(sayi1 + sayi2)\n",
    "print(sayi1 - sayi2)\n",
    "print(sayi1 * sayi2)\n",
    "print(sayi1 / sayi2)\n",
    "print(sayi1 % sayi2)"
   ]
  },
  {
   "cell_type": "code",
   "execution_count": 25,
   "id": "c5c71e08-e7e4-4575-9e8a-f094f30b7e7b",
   "metadata": {
    "panel-layout": {
     "height": 0,
     "visible": true,
     "width": 100
    }
   },
   "outputs": [
    {
     "name": "stdin",
     "output_type": "stream",
     "text": [
      "Ortalamanızı giriniz:  50\n"
     ]
    },
    {
     "name": "stdout",
     "output_type": "stream",
     "text": [
      "Tebrikler, geçtiniz.\n"
     ]
    }
   ],
   "source": [
    "ortalama = int(input(\"Ortalamanızı giriniz: \"))\n",
    "if ortalama >= 50:\n",
    "    print(\"Tebrikler, geçtiniz.\")\n",
    "else: \n",
    "    print(\"Maalesef kaldınız.\")"
   ]
  },
  {
   "cell_type": "code",
   "execution_count": 27,
   "id": "c1ceefea-39d1-449b-b608-522db62ea8d2",
   "metadata": {
    "panel-layout": {
     "height": 0,
     "visible": true,
     "width": 100
    }
   },
   "outputs": [
    {
     "name": "stdin",
     "output_type": "stream",
     "text": [
      "Yaşınızı giriniz:  7\n"
     ]
    },
    {
     "name": "stdout",
     "output_type": "stream",
     "text": [
      "Ehliyet alamazsınız.\n"
     ]
    }
   ],
   "source": [
    "yaş = int(input(\"Yaşınızı giriniz: \"))\n",
    "if yaş >= 18:\n",
    "    print(\"Ehliyet alabilirsiniz.\")\n",
    "else:\n",
    "    print(\"Ehliyet alamazsınız.\")"
   ]
  },
  {
   "cell_type": "code",
   "execution_count": 30,
   "id": "b2c68ab5-283d-41c3-b722-645f10e772ab",
   "metadata": {
    "panel-layout": {
     "height": 0,
     "visible": true,
     "width": 100
    }
   },
   "outputs": [
    {
     "name": "stdin",
     "output_type": "stream",
     "text": [
      "Ürünün fiyatını giriniz:  100\n",
      "İndirim Oranını giriniz:  25\n"
     ]
    },
    {
     "name": "stdout",
     "output_type": "stream",
     "text": [
      "İndirimli fiyat:  75.0\n"
     ]
    }
   ],
   "source": [
    "fiyat = float(input(\"Ürünün fiyatını giriniz: \"))\n",
    "indirim = int(input(\"İndirim Oranını giriniz: \"))\n",
    "indirimli_fiyat = fiyat - (fiyat*(indirim/100))\n",
    "print(\"İndirimli fiyat: \", indirimli_fiyat)"
   ]
  },
  {
   "cell_type": "code",
   "execution_count": 32,
   "id": "86e596e9-97ec-49b8-81b6-7b4192cdd919",
   "metadata": {},
   "outputs": [
    {
     "name": "stdout",
     "output_type": "stream",
     "text": [
      "x and y:  False\n",
      "x or y:  True\n",
      "not x:  False\n",
      "not y:  True\n"
     ]
    }
   ],
   "source": [
    "x = True\n",
    "y = False\n",
    "print(\"x and y: \", x and y)\n",
    "print(\"x or y: \", x or y)\n",
    "print(\"not x: \", not x)\n",
    "print(\"not y: \", not y)\n",
    "\n"
   ]
  },
  {
   "cell_type": "code",
   "execution_count": 37,
   "id": "23546fa9-fcf6-4c8f-9431-d2354aada164",
   "metadata": {},
   "outputs": [
    {
     "name": "stdin",
     "output_type": "stream",
     "text": [
      "1. ürünün fiyatını giriniz:  80\n",
      "2. ürünün fiyatını giriniz:  60\n",
      "3. ürünün fiyatını giriniz:  70\n"
     ]
    },
    {
     "name": "stdout",
     "output_type": "stream",
     "text": [
      "Toplam tutar:  189.0\n"
     ]
    }
   ],
   "source": [
    "ürün1 = float(input(\"1. ürünün fiyatını giriniz: \"))\n",
    "ürün2 = float(input(\"2. ürünün fiyatını giriniz: \"))\n",
    "ürün3 = float(input(\"3. ürünün fiyatını giriniz: \"))\n",
    "toplam = ürün1 + ürün2 + ürün3\n",
    "if toplam > 200:\n",
    "    indirimli_toplam = toplam - (toplam*(10/100))\n",
    "    print(\"Toplam tutar: \", indirimli_toplam)\n",
    "else:\n",
    "    print(\"Toplam tutar: \", toplam)\n"
   ]
  },
  {
   "cell_type": "code",
   "execution_count": 42,
   "id": "1fdca132-7f90-4eb3-9b3c-cbc4d8c873fb",
   "metadata": {},
   "outputs": [
    {
     "name": "stdin",
     "output_type": "stream",
     "text": [
      "Doğum yılınızı giriniz:  2003\n"
     ]
    },
    {
     "name": "stdout",
     "output_type": "stream",
     "text": [
      "Yetişkinsiniz.\n"
     ]
    }
   ],
   "source": [
    "sayi = int(input(\"Doğum yılınızı giriniz: \"))\n",
    "yas = 2025 - sayi\n",
    "if yas <= 12:\n",
    "    print(\"Çocuksunuz.\")\n",
    "elif yas >=13 and yas <= 17 :\n",
    "    print(\"Ergensiniz.\")\n",
    "else:\n",
    "    print(\"Yetişkinsiniz.\")\n"
   ]
  }
 ],
 "metadata": {
  "kernelspec": {
   "display_name": "Python 3 (ipykernel)",
   "language": "python",
   "name": "python3"
  },
  "language_info": {
   "codemirror_mode": {
    "name": "ipython",
    "version": 3
   },
   "file_extension": ".py",
   "mimetype": "text/x-python",
   "name": "python",
   "nbconvert_exporter": "python",
   "pygments_lexer": "ipython3",
   "version": "3.12.7"
  },
  "panel-cell-order": [
   "c89d3f09-8064-4950-b9ab-a016cecf2fd7",
   "ff280d5b-5fd4-40d2-ac4d-91d1f864cd1a",
   "b2c68ab5-283d-41c3-b722-645f10e772ab"
  ]
 },
 "nbformat": 4,
 "nbformat_minor": 5
}
